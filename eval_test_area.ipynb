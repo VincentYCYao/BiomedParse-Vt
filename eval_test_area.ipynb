{
 "cells": [
  {
   "cell_type": "code",
   "execution_count": null,
   "metadata": {},
   "outputs": [
    {
     "name": "stdout",
     "output_type": "stream",
     "text": [
      "Number of pixels with value 1: 13392\n",
      "Unique values in the image: [  0 255]\n"
     ]
    }
   ],
   "source": [
    "from PIL import Image\n",
    "import numpy as np\n",
    "\n",
    "\n",
    "def count_pixels_with_value_one(file_path):\n",
    "    # Open the image file\n",
    "    with Image.open(file_path) as img:\n",
    "        # Convert the image to grayscale\n",
    "        img = img.convert(\"L\")\n",
    "        # Convert the image to a numpy array\n",
    "        img_array = np.array(img)\n",
    "        # Count the number of pixels with value 1\n",
    "        count = np.sum(img_array == 255)\n",
    "    return img_array, count\n",
    "\n",
    "\n",
    "def get_unique_values(img_array):\n",
    "    # Get unique values in the image array\n",
    "    unique_values = np.unique(img_array)\n",
    "    return unique_values\n",
    "\n",
    "\n",
    "# Example usage\n",
    "file_path = \"/mnt/vincent-pvc/Datasets/BiomedParseData/ACDC/test_mask/ipatient101_frame01_0_MRI_heart_left+heart+ventricle.png\"\n",
    "img_array, count = count_pixels_with_value_one(file_path)\n",
    "print(f\"Number of pixels with value 1: {count}\")\n",
    "unique_values = get_unique_values(img_array)\n",
    "print(f\"Unique values in the image: {unique_values}\")\n"
   ]
  },
  {
   "cell_type": "code",
   "execution_count": null,
   "metadata": {},
   "outputs": [],
   "source": []
  }
 ],
 "metadata": {
  "kernelspec": {
   "display_name": "BiomedParse",
   "language": "python",
   "name": "python3"
  },
  "language_info": {
   "codemirror_mode": {
    "name": "ipython",
    "version": 3
   },
   "file_extension": ".py",
   "mimetype": "text/x-python",
   "name": "python",
   "nbconvert_exporter": "python",
   "pygments_lexer": "ipython3",
   "version": "3.9.19"
  }
 },
 "nbformat": 4,
 "nbformat_minor": 2
}
